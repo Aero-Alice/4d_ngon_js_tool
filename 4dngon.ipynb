{
    "cells": [
        {
            "cell_type": "code",
            "execution_count": 5,
            "metadata": {},
            "outputs": [
                {
                    "name": "stdout",
                    "output_type": "stream",
                    "text": [
                        "pygame 2.6.1 (SDL 2.28.4, Python 3.11.9)\n",
                        "Hello from the pygame community. https://www.pygame.org/contribute.html\n"
                    ]
                },
                {
                    "ename": "ModuleNotFoundError",
                    "evalue": "No module named 'numpy'",
                    "output_type": "error",
                    "traceback": [
                        "\u001b[31m---------------------------------------------------------------------------\u001b[39m",
                        "\u001b[31mModuleNotFoundError\u001b[39m                       Traceback (most recent call last)",
                        "\u001b[36mCell\u001b[39m\u001b[36m \u001b[39m\u001b[32mIn[5]\u001b[39m\u001b[32m, line 2\u001b[39m\n\u001b[32m      1\u001b[39m \u001b[38;5;28;01mimport\u001b[39;00m\u001b[38;5;250m \u001b[39m\u001b[34;01mpygame\u001b[39;00m\n\u001b[32m----> \u001b[39m\u001b[32m2\u001b[39m \u001b[38;5;28;01mimport\u001b[39;00m\u001b[38;5;250m \u001b[39m\u001b[34;01mnumpy\u001b[39;00m\u001b[38;5;250m \u001b[39m\u001b[38;5;28;01mas\u001b[39;00m\u001b[38;5;250m \u001b[39m\u001b[34;01mnp\u001b[39;00m\n\u001b[32m      3\u001b[39m \u001b[38;5;28;01mfrom\u001b[39;00m\u001b[38;5;250m \u001b[39m\u001b[34;01mmath\u001b[39;00m\u001b[38;5;250m \u001b[39m\u001b[38;5;28;01mimport\u001b[39;00m sin, cos, pi\n",
                        "\u001b[31mModuleNotFoundError\u001b[39m: No module named 'numpy'"
                    ]
                }
            ],
            "source": [
                "import pygame\n",
                "import numpy as np\n",
                "from math import sin, cos, pi\n"
            ]
        },
        {
            "cell_type": "code",
            "execution_count": 4,
            "metadata": {},
            "outputs": [
                {
                    "ename": "NameError",
                    "evalue": "name 'pygame' is not defined",
                    "output_type": "error",
                    "traceback": [
                        "\u001b[31m---------------------------------------------------------------------------\u001b[39m",
                        "\u001b[31mNameError\u001b[39m                                 Traceback (most recent call last)",
                        "\u001b[36mCell\u001b[39m\u001b[36m \u001b[39m\u001b[32mIn[4]\u001b[39m\u001b[32m, line 2\u001b[39m\n\u001b[32m      1\u001b[39m \u001b[38;5;66;03m# Initialize Pygame\u001b[39;00m\n\u001b[32m----> \u001b[39m\u001b[32m2\u001b[39m \u001b[43mpygame\u001b[49m.init()\n\u001b[32m      3\u001b[39m width, height = \u001b[32m800\u001b[39m, \u001b[32m600\u001b[39m\n\u001b[32m      4\u001b[39m screen = pygame.display.set_mode((width, height), pygame.RESIZABLE)\n",
                        "\u001b[31mNameError\u001b[39m: name 'pygame' is not defined"
                    ]
                }
            ],
            "source": [
                "# Initialize Pygame\n",
                "pygame.init()\n",
                "width, height = 800, 600\n",
                "screen = pygame.display.set_mode((width, height), pygame.RESIZABLE)\n",
                "pygame.display.set_caption(\"4D Polyhedra Visualizer\")\n"
            ]
        },
        {
            "cell_type": "code",
            "execution_count": null,
            "metadata": {},
            "outputs": [],
            "source": [
                "# Colors\n",
                "BLACK = (0, 0, 0)\n",
                "WHITE = (255, 255, 255)\n",
                "GRAY = (100, 100, 100)\n",
                "RED = (255, 0, 0)\n",
                "BLUE = (50, 100, 255)\n",
                "GREEN = (50, 200, 50)\n"
            ]
        },
        {
            "cell_type": "code",
            "execution_count": null,
            "metadata": {},
            "outputs": [],
            "source": [
                "# Shape Generation Functions\n",
                "def generate_hypercube():\n",
                "    # Generate vertices and edges for a 4D hypercube (tesseract)\n",
                "    vertices = np.array([\n",
                "        [x, y, z, w] for x in [-1, 1] for y in [-1, 1]  \n",
                "        for z in [-1, 1] for w in [-1, 1]\n",
                "    ], dtype=float)\n",
                "    edges = []\n",
                "    for i in range(len(vertices)):\n",
                "        for j in range(i + 1, len(vertices)):\n",
                "            diff = np.sum(vertices[i] != vertices[j])\n",
                "            if diff == 1:\n",
                "                edges.append((i, j))\n",
                "    return vertices, edges, \"Hypercube (Tesseract)\"\n"
            ]
        },
        {
            "cell_type": "code",
            "execution_count": null,
            "metadata": {},
            "outputs": [],
            "source": [
                "def generate_5cell():\n",
                "    # Generate vertices and edges for a 5-cell (4D simplex)\n",
                "    r = 1.5  # Scale factor for better visualization\n",
                "    vertices = np.array([\n",
                "        [0, 0, 0, -r/4],  # Base vertex\n",
                "        [r, 0, 0, r/4],    # Remaining vertices in a tetrahedral arrangement\n",
                "        [-r/3, r*0.94, 0, r/4],\n",
                "        [-r/3, -r*0.47, r*0.82, r/4],\n",
                "        [-r/3, -r*0.47, -r*0.82, r/4],\n",
                "    ], dtype=float)\n",
                "    edges = []\n",
                "    for i in range(len(vertices)):\n",
                "        for j in range(i + 1, len(vertices)):\n",
                "            edges.append((i, j))\n",
                "    return vertices, edges, \"5-cell (4D Simplex)\"\n"
            ]
        },
        {
            "cell_type": "code",
            "execution_count": null,
            "metadata": {},
            "outputs": [],
            "source": [
                "def generate_16cell():\n",
                "    # Generate vertices and edges for a 16-cell (4D hexadecachoron)\n",
                "    r = 1.0\n",
                "    vertices = np.array([\n",
                "        [r, 0, 0, 0],\n",
                "        [-r, 0, 0, 0],\n",
                "        [0, r, 0, 0],\n",
                "        [0, -r, 0, 0],\n",
                "        [0, 0, r, 0],\n",
                "        [0, 0, -r, 0],\n",
                "        [0, 0, 0, r],\n",
                "        [0, 0, 0, -r],\n",
                "    ], dtype=float)\n",
                "    edges = []\n",
                "    for i in range(len(vertices)):\n",
                "        for j in range(i + 1, len(vertices)):\n",
                "            edges.append((i, j))\n",
                "    return vertices, edges, \"16-cell (Hexadecachoron)\"\n"
            ]
        },
        {
            "cell_type": "code",
            "execution_count": null,
            "metadata": {},
            "outputs": [],
            "source": [
                "def generate_24cell():\n",
                "    # Generate vertices and edges for a 24-cell\n",
                "    vertices = []\n",
                "    r = 1.0\n",
                "    for x in [-r, r]:\n",
                "        for y in [-r, r]:\n",
                "            vertices.append([x, y, 0, 0])\n",
                "            vertices.append([x, 0, y, 0])\n",
                "            vertices.append([x, 0, 0, y])\n",
                "            vertices.append([0, x, y, 0])\n",
                "            vertices.append([0, x, 0, y])\n",
                "            vertices.append([0, 0, x, y])\n",
                "    vertices = np.array(vertices, dtype=float)\n",
                "    edges = []\n",
                "    for i in range(len(vertices)):\n",
                "        for j in range(i + 1, len(vertices)):\n",
                "            dist = np.linalg.norm(vertices[i] - vertices[j])\n",
                "            if abs(dist - np.sqrt(2)) < 0.01:\n",
                "                edges.append((i, j))\n",
                "    return vertices, edges, \"24-cell\"\n"
            ]
        },
        {
            "cell_type": "code",
            "execution_count": null,
            "metadata": {},
            "outputs": [],
            "source": [
                "def generate_8cell():\n",
                "    # Generate vertices and edges for an 8-cell (4D octahedron)\n",
                "    r = 1.5\n",
                "    vertices = np.array([\n",
                "        [r, 0, 0, 0],\n",
                "        [-r, 0, 0, 0],\n",
                "        [0, r, 0, 0],\n",
                "        [0, -r, 0, 0],\n",
                "        [0, 0, r, 0],\n",
                "        [0, 0, -r, 0],\n",
                "        [0, 0, 0, r],\n",
                "        [0, 0, 0, -r],\n",
                "    ], dtype=float)\n",
                "    edges = []\n",
                "    for i in range(len(vertices)):\n",
                "        for j in range(i + 1, len(vertices)):\n",
                "            same_zeros = sum(1 for a, b in zip(vertices[i], vertices[j]) if a == 0 and b == 0)\n",
                "            if same_zeros == 3:\n",
                "                edges.append((i, j))\n",
                "    return vertices, edges, \"8-cell (4D Octahedron)\"\n"
            ]
        },
        {
            "cell_type": "code",
            "execution_count": null,
            "metadata": {},
            "outputs": [],
            "source": [
                "# Define all available shapes\n",
                "shape_generators = [\n",
                "    generate_hypercube,\n",
                "    generate_5cell,\n",
                "    generate_16cell,\n",
                "    generate_24cell,\n",
                "    generate_8cell\n",
                "]\n"
            ]
        },
        {
            "cell_type": "code",
            "execution_count": null,
            "metadata": {},
            "outputs": [],
            "source": [
                "# Main game loop\n",
                "running = True\n",
                "angles = [0, 0, 0, 0, 0, 0]  # XY, XZ, XW, YZ, YW, ZW\n",
                "rotation_speed = 0.02\n",
                "zoom_factor = 1.0  # Initialize zoom factor\n"
            ]
        },
        {
            "cell_type": "code",
            "execution_count": null,
            "metadata": {},
            "outputs": [],
            "source": [
                "# Create slider for rotation speed\n",
                "speed_slider = Slider(width // 2 - 100, height - 50, 200, 20, 0.0, 0.05, rotation_speed)\n"
            ]
        },
        {
            "cell_type": "code",
            "execution_count": null,
            "metadata": {},
            "outputs": [],
            "source": [
                "# Function to change shape\n",
                "def change_shape():\n",
                "    global current_shape_index, vertices_4d, edges, shape_name\n",
                "    current_shape_index = (current_shape_index + 1) % len(shape_generators)\n",
                "    vertices_4d, edges, shape_name = shape_generators[current_shape_index]()\n",
                "    return True\n"
            ]
        },
        {
            "cell_type": "code",
            "execution_count": null,
            "metadata": {},
            "outputs": [],
            "source": [
                "# Main loop for Pygame\n",
                "while running:\n",
                "    for event in pygame.event.get():\n",
                "        if event.type == pygame.QUIT:\n",
                "            running = False\n",
                "        elif event.type == pygame.KEYDOWN:\n",
                "            if event.key == pygame.K_ESCAPE:\n",
                "                running = False\n",
                "            elif event.key == pygame.K_SPACE:\n",
                "                change_shape()\n",
                "        elif event.type == pygame.VIDEORESIZE:\n",
                "            width, height = event.size\n",
                "            screen = pygame.display.set_mode((width, height), pygame.RESIZABLE)\n",
                "            scale = calculate_scale(width, height)\n",
                "        elif event.type == pygame.MOUSEWHEEL:\n",
                "            zoom_factor *= 1.1 if event.y > 0 else 0.9\n",
                "            zoom_factor = max(0.1, min(zoom_factor, 10.0))\n",
                "            scale = calculate_scale(width, height)\n"
            ]
        },
        {
            "cell_type": "code",
            "execution_count": null,
            "metadata": {},
            "outputs": [],
            "source": [
                "    # Update rotation speed from slider\n",
                "    rotation_speed = speed_slider.value\n",
                "    angles = [angle + rotation_speed for angle in angles]\n"
            ]
        },
        {
            "cell_type": "code",
            "execution_count": null,
            "metadata": {},
            "outputs": [],
            "source": [
                "    # Rotate and project\n",
                "    rotated_vertices = rotate4d(vertices_4d, *angles)\n",
                "    projected_3d = project_4d_to_3d(rotated_vertices)\n",
                "    projected_2d = project_3d_to_2d(projected_3d)\n"
            ]
        },
        {
            "cell_type": "code",
            "execution_count": null,
            "metadata": {},
            "outputs": [],
            "source": [
                "    # Scale and center the 2D points\n",
                "    screen_points = (projected_2d * scale + np.array([width/2, height/2])).astype(int)\n"
            ]
        },
        {
            "cell_type": "code",
            "execution_count": null,
            "metadata": {},
            "outputs": [],
            "source": [
                "    # Draw\n",
                "    screen.fill(BLACK)\n",
                "    font = pygame.font.SysFont(None, 32)\n",
                "    title = font.render(shape_name, True, GREEN)\n",
                "    screen.blit(title, (width//2 - title.get_width()//2, 10))\n"
            ]
        },
        {
            "cell_type": "code",
            "execution_count": null,
            "metadata": {},
            "outputs": [],
            "source": [
                "    for i, point in enumerate(screen_points):\n",
                "        pygame.draw.circle(screen, WHITE, point, 3)\n"
            ]
        },
        {
            "cell_type": "code",
            "execution_count": null,
            "metadata": {},
            "outputs": [],
            "source": [
                "    for edge in edges:\n",
                "        start = screen_points[edge[0]]\n",
                "        end = screen_points[edge[1]]\n",
                "        pygame.draw.line(screen, WHITE, start, end, 1)\n"
            ]
        },
        {
            "cell_type": "code",
            "execution_count": null,
            "metadata": {},
            "outputs": [],
            "source": [
                "    speed_slider.draw(screen)\n",
                "    change_shape_button.draw(screen)\n",
                "    font = pygame.font.SysFont(None, 16)\n",
                "    instructions = font.render(\"Press SPACE to change shape, scroll wheel to zoom\", True, WHITE)\n",
                "    screen.blit(instructions, (10, 40))\n"
            ]
        },
        {
            "cell_type": "code",
            "execution_count": null,
            "metadata": {},
            "outputs": [],
            "source": [
                "    pygame.display.flip()\n",
                "    clock.tick(60)\n"
            ]
        },
        {
            "cell_type": "code",
            "execution_count": null,
            "metadata": {},
            "outputs": [],
            "source": [
                "pygame.quit()\n"
            ]
        }
    ],
    "metadata": {
        "kernelspec": {
            "display_name": ".venv",
            "language": "python",
            "name": "python3"
        },
        "language_info": {
            "codemirror_mode": {
                "name": "ipython",
                "version": 3
            },
            "file_extension": ".py",
            "mimetype": "text/x-python",
            "name": "python",
            "nbconvert_exporter": "python",
            "pygments_lexer": "ipython3",
            "version": "3.11.9"
        }
    },
    "nbformat": 4,
    "nbformat_minor": 4
}
